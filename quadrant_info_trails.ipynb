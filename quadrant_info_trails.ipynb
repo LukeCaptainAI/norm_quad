{
 "cells": [
  {
   "cell_type": "code",
   "execution_count": 1,
   "id": "48722f7e",
   "metadata": {},
   "outputs": [],
   "source": [
    "import numpy as np\n",
    "import pandas as pd\n",
    "import matplotlib.pyplot as plt"
   ]
  },
  {
   "cell_type": "code",
   "execution_count": 2,
   "id": "9eb66ce6",
   "metadata": {},
   "outputs": [
    {
     "data": {
      "text/html": [
       "<div>\n",
       "<style scoped>\n",
       "    .dataframe tbody tr th:only-of-type {\n",
       "        vertical-align: middle;\n",
       "    }\n",
       "\n",
       "    .dataframe tbody tr th {\n",
       "        vertical-align: top;\n",
       "    }\n",
       "\n",
       "    .dataframe thead th {\n",
       "        text-align: right;\n",
       "    }\n",
       "</style>\n",
       "<table border=\"1\" class=\"dataframe\">\n",
       "  <thead>\n",
       "    <tr style=\"text-align: right;\">\n",
       "      <th></th>\n",
       "      <th>utc-dt</th>\n",
       "      <th>mmsi</th>\n",
       "      <th>sog</th>\n",
       "      <th>cog</th>\n",
       "      <th>true_heading</th>\n",
       "      <th>delta_hdn-cog</th>\n",
       "    </tr>\n",
       "  </thead>\n",
       "  <tbody>\n",
       "    <tr>\n",
       "      <th>1</th>\n",
       "      <td>2021-06-01 15:28:53</td>\n",
       "      <td>246657000</td>\n",
       "      <td>11.400000</td>\n",
       "      <td>304.000000</td>\n",
       "      <td>313</td>\n",
       "      <td>9.000000</td>\n",
       "    </tr>\n",
       "    <tr>\n",
       "      <th>2</th>\n",
       "      <td>2021-06-01 15:28:53</td>\n",
       "      <td>244030516</td>\n",
       "      <td>4.800000</td>\n",
       "      <td>115.900002</td>\n",
       "      <td>110</td>\n",
       "      <td>-5.900002</td>\n",
       "    </tr>\n",
       "    <tr>\n",
       "      <th>5</th>\n",
       "      <td>2021-06-01 15:28:54</td>\n",
       "      <td>245209000</td>\n",
       "      <td>3.300000</td>\n",
       "      <td>106.599998</td>\n",
       "      <td>104</td>\n",
       "      <td>-2.599998</td>\n",
       "    </tr>\n",
       "    <tr>\n",
       "      <th>10</th>\n",
       "      <td>2021-06-01 15:28:54</td>\n",
       "      <td>249522000</td>\n",
       "      <td>9.400000</td>\n",
       "      <td>43.000000</td>\n",
       "      <td>43</td>\n",
       "      <td>0.000000</td>\n",
       "    </tr>\n",
       "    <tr>\n",
       "      <th>11</th>\n",
       "      <td>2021-06-01 15:28:55</td>\n",
       "      <td>244287000</td>\n",
       "      <td>25.299999</td>\n",
       "      <td>96.000000</td>\n",
       "      <td>92</td>\n",
       "      <td>-4.000000</td>\n",
       "    </tr>\n",
       "    <tr>\n",
       "      <th>...</th>\n",
       "      <td>...</td>\n",
       "      <td>...</td>\n",
       "      <td>...</td>\n",
       "      <td>...</td>\n",
       "      <td>...</td>\n",
       "      <td>...</td>\n",
       "    </tr>\n",
       "    <tr>\n",
       "      <th>205</th>\n",
       "      <td>2021-06-01 15:29:31</td>\n",
       "      <td>304642000</td>\n",
       "      <td>16.600000</td>\n",
       "      <td>294.000000</td>\n",
       "      <td>299</td>\n",
       "      <td>5.000000</td>\n",
       "    </tr>\n",
       "    <tr>\n",
       "      <th>207</th>\n",
       "      <td>2021-06-01 15:29:31</td>\n",
       "      <td>244287000</td>\n",
       "      <td>25.799999</td>\n",
       "      <td>28.000000</td>\n",
       "      <td>36</td>\n",
       "      <td>8.000000</td>\n",
       "    </tr>\n",
       "    <tr>\n",
       "      <th>209</th>\n",
       "      <td>2021-06-01 15:29:31</td>\n",
       "      <td>249040000</td>\n",
       "      <td>8.300000</td>\n",
       "      <td>77.000000</td>\n",
       "      <td>83</td>\n",
       "      <td>6.000000</td>\n",
       "    </tr>\n",
       "    <tr>\n",
       "      <th>212</th>\n",
       "      <td>2021-06-01 15:29:31</td>\n",
       "      <td>244100907</td>\n",
       "      <td>0.200000</td>\n",
       "      <td>257.200012</td>\n",
       "      <td>326</td>\n",
       "      <td>68.799988</td>\n",
       "    </tr>\n",
       "    <tr>\n",
       "      <th>213</th>\n",
       "      <td>2021-06-01 15:29:31</td>\n",
       "      <td>250005693</td>\n",
       "      <td>7.100000</td>\n",
       "      <td>126.900002</td>\n",
       "      <td>126</td>\n",
       "      <td>-0.900002</td>\n",
       "    </tr>\n",
       "  </tbody>\n",
       "</table>\n",
       "<p>120 rows × 6 columns</p>\n",
       "</div>"
      ],
      "text/plain": [
       "                  utc-dt       mmsi        sog         cog  true_heading  \\\n",
       "1    2021-06-01 15:28:53  246657000  11.400000  304.000000           313   \n",
       "2    2021-06-01 15:28:53  244030516   4.800000  115.900002           110   \n",
       "5    2021-06-01 15:28:54  245209000   3.300000  106.599998           104   \n",
       "10   2021-06-01 15:28:54  249522000   9.400000   43.000000            43   \n",
       "11   2021-06-01 15:28:55  244287000  25.299999   96.000000            92   \n",
       "..                   ...        ...        ...         ...           ...   \n",
       "205  2021-06-01 15:29:31  304642000  16.600000  294.000000           299   \n",
       "207  2021-06-01 15:29:31  244287000  25.799999   28.000000            36   \n",
       "209  2021-06-01 15:29:31  249040000   8.300000   77.000000            83   \n",
       "212  2021-06-01 15:29:31  244100907   0.200000  257.200012           326   \n",
       "213  2021-06-01 15:29:31  250005693   7.100000  126.900002           126   \n",
       "\n",
       "     delta_hdn-cog  \n",
       "1         9.000000  \n",
       "2        -5.900002  \n",
       "5        -2.599998  \n",
       "10        0.000000  \n",
       "11       -4.000000  \n",
       "..             ...  \n",
       "205       5.000000  \n",
       "207       8.000000  \n",
       "209       6.000000  \n",
       "212      68.799988  \n",
       "213      -0.900002  \n",
       "\n",
       "[120 rows x 6 columns]"
      ]
     },
     "execution_count": 2,
     "metadata": {},
     "output_type": "execute_result"
    }
   ],
   "source": [
    "url = 'https://github.com/LukeCaptainAI/norm_quad/blob/main/aisdecoded.csv?raw=true' # forked from github\n",
    "df = pd.read_csv(url, index_col=0)\n",
    "df"
   ]
  },
  {
   "cell_type": "code",
   "execution_count": 3,
   "id": "75fef052",
   "metadata": {},
   "outputs": [
    {
     "data": {
      "text/plain": [
       "count    120.000000\n",
       "mean     137.445833\n",
       "std       98.936880\n",
       "min        1.000000\n",
       "25%       53.250000\n",
       "50%      111.450001\n",
       "75%      231.675003\n",
       "max      336.000000\n",
       "Name: cog, dtype: float64"
      ]
     },
     "execution_count": 3,
     "metadata": {},
     "output_type": "execute_result"
    }
   ],
   "source": [
    "df['cog'].describe()"
   ]
  },
  {
   "cell_type": "code",
   "execution_count": 4,
   "id": "a74bfdb4",
   "metadata": {},
   "outputs": [],
   "source": [
    "# Stap 1:\n",
    "# -------\n",
    "# Ik wil achter COG een kolumn ['quad_cog'] invoegen wat het kwadranten aangeeft van de koersen:\n",
    "#           \n",
    "# ['cog']     ['quad_cog']\n",
    "# 53.250000   1 \n",
    "# 111.450001  2\n",
    "# 231.675003  3\n",
    "# 336.000000  4\n",
    "# \n",
    "# conditional formats:\n",
    "# ------------------\n",
    "#   0 > cog >  90 --- 1\n",
    "#  90 > cog > 180 --- 2 \n",
    "# 180 > cog > 270 --- 3\n",
    "# 270 > cog > 360 --- 4"
   ]
  },
  {
   "cell_type": "code",
   "execution_count": 16,
   "id": "0b654aef",
   "metadata": {},
   "outputs": [
    {
     "name": "stdout",
     "output_type": "stream",
     "text": [
      "Rechts draaiend stelsel...\n",
      " \n",
      "Q4     0      Q1\n",
      "               \n",
      "       |        \n",
      "270  --|--    90\n",
      "       |        \n",
      "               \n",
      "Q3    180     Q2\n"
     ]
    },
    {
     "data": {
      "text/html": [
       "<img src=\"https://iitutor.com/wp-content/uploads/2019/03/N1303-Signs-in-Quadrants.png\" width=\"400\" height=\"400\"/>"
      ],
      "text/plain": [
       "<IPython.core.display.Image object>"
      ]
     },
     "execution_count": 16,
     "metadata": {},
     "output_type": "execute_result"
    }
   ],
   "source": [
    "pika = 'https://iitutor.com/wp-content/uploads/2019/03/N1303-Signs-in-Quadrants.png'\n",
    "from IPython.display import Image # trigonomic functions of quadrants\n",
    "Image(url= pika, width=400, height=400)\n",
    "\n",
    " \n",
    "print('Rechts draaiend stelsel...')\n",
    "print(' ')\n",
    "print('Q4     0      Q1')\n",
    "print('               ')\n",
    "print('       |        ')\n",
    "print('270  --|--    90')\n",
    "print('       |        ')\n",
    "print('               ')\n",
    "print('Q3    180     Q2')\n",
    "\n",
    "pika = 'https://iitutor.com/wp-content/uploads/2019/03/N1303-Signs-in-Quadrants.png'\n",
    "from IPython.display import Image # trigonomic functions of quadrants\n",
    "Image(url= pika, width=400, height=400)"
   ]
  },
  {
   "cell_type": "code",
   "execution_count": 6,
   "id": "a0529409",
   "metadata": {},
   "outputs": [
    {
     "data": {
      "text/plain": [
       "array([304.        , 115.90000153, 106.59999847,  43.        ,\n",
       "        96.        , 260.6000061 , 111.        , 294.        ,\n",
       "       103.90000153,  15.39999962, 106.59999847, 268.29998779,\n",
       "        61.5       , 133.        ,  94.        , 304.6000061 ,\n",
       "       116.80000305, 227.1000061 ,  42.        ,  42.        ,\n",
       "       111.30000305,  90.        , 114.19999695,  35.        ,\n",
       "       106.59999847, 298.29998779, 114.5       ,   9.30000019,\n",
       "        85.        ,  41.        , 293.        , 111.59999847,\n",
       "       113.40000153,  79.        , 120.80000305,  50.5       ,\n",
       "       267.70001221, 112.09999847,  73.        , 156.3999939 ,\n",
       "        15.19999981, 112.69999695, 291.        , 106.59999847,\n",
       "        67.        , 305.20001221,  43.        , 111.69999695,\n",
       "       290.        ,  41.        , 114.40000153, 112.        ,\n",
       "       298.6000061 ,  27.        ,  60.        , 336.        ,\n",
       "        54.        , 291.        ,  24.        ,  50.20000076,\n",
       "        51.        , 111.09999847, 123.69999695, 106.59999847,\n",
       "        48.        , 117.40000153, 110.40000153, 306.5       ,\n",
       "        14.80000019, 104.30000305,  43.        ,  62.        ,\n",
       "       290.        , 196.30000305, 245.3999939 ,  42.        ,\n",
       "       109.69999695, 115.19999695, 291.        , 111.90000153,\n",
       "        37.        , 118.09999847, 298.1000061 ,  14.5       ,\n",
       "        33.        , 208.        , 321.79998779,   1.        ,\n",
       "       302.8999939 , 108.59999847,  31.        , 126.        ,\n",
       "       181.80000305, 107.19999695,  72.        , 271.3999939 ,\n",
       "       292.        ,  28.        , 298.        , 107.90000153,\n",
       "       306.8999939 ,  15.10000038, 271.3999939 , 156.8999939 ,\n",
       "        28.        , 291.        ,  41.        , 206.3999939 ,\n",
       "       118.90000153,  76.        , 107.        ,  27.        ,\n",
       "       112.19999695, 298.70001221, 115.69999695, 294.        ,\n",
       "        28.        ,  77.        , 257.20001221, 126.90000153])"
      ]
     },
     "execution_count": 6,
     "metadata": {},
     "output_type": "execute_result"
    }
   ],
   "source": [
    "cog = np.array(df['cog'])\n",
    "cog # geisoleerde numpy array voor indivudeele operaties\n"
   ]
  },
  {
   "cell_type": "code",
   "execution_count": 11,
   "id": "30744a4c",
   "metadata": {},
   "outputs": [
    {
     "ename": "IndentationError",
     "evalue": "unindent does not match any outer indentation level (<tokenize>, line 11)",
     "output_type": "error",
     "traceback": [
      "\u001b[0;36m  File \u001b[0;32m\"<tokenize>\"\u001b[0;36m, line \u001b[0;32m11\u001b[0m\n\u001b[0;31m    return 4\u001b[0m\n\u001b[0m    ^\u001b[0m\n\u001b[0;31mIndentationError\u001b[0m\u001b[0;31m:\u001b[0m unindent does not match any outer indentation level\n"
     ]
    }
   ],
   "source": [
    "#If statement probeersels voor stap 1\n",
    "\n",
    "def qaud_id(x):\n",
    "    if 0 > cog > 90:\n",
    "    return 1\n",
    "        elif 90 > cog > 180:\n",
    "        return 2\n",
    "            elif 180 > cog > 270:\n",
    "            return 3\n",
    "                else\n",
    "             return 4\n"
   ]
  },
  {
   "cell_type": "code",
   "execution_count": 12,
   "id": "86236359",
   "metadata": {},
   "outputs": [],
   "source": [
    "# stap 2:\n",
    "# -------\n",
    "# De numpy array quad_cog toevoegen aan de oorspronkelijke dataframe \n",
    "# 1 op basis van kwadranten info een if statement toevoegen waarbij de cog of wel hoek a gereduceert wordt\n",
    "# 2 de y waarde middels de sinus van de gerduceerde hoek toevoegen op basis van de coditionele waarde van ['quad_cog']\n",
    "# 3 de x waarde middels cosinus van ... ...\n",
    "# \n",
    "# ['cog']: a  ['quad_cog']    1['reduced_cog']:b  2['cog_y']                       3['cog_x']\n",
    "# 53.250000   1               53.250000 a=a       y= np.sin(np.radians(b))         x= np.cos(np.radians(b))\n",
    "#  \n",
    "# 111.450001  2               21.450001 a=a-90    y= (np.sin(np.radians(b))*(-1))  x= np.cos(np.radians(b))\n",
    "#  \n",
    "# 231.675003  3               51.675003 a=a-180   y= (np.sin(np.radians(b))*(-1))  x= (np.cos(np.radians(b))*(-1))\n",
    "#  \n",
    "# 336.000000  4               66.000000 a=a-270   y= np.sin(np.radians(b))         x= (np.cos(np.radians(b))*(-1))"
   ]
  }
 ],
 "metadata": {
  "kernelspec": {
   "display_name": "Python 3",
   "language": "python",
   "name": "python3"
  },
  "language_info": {
   "codemirror_mode": {
    "name": "ipython",
    "version": 3
   },
   "file_extension": ".py",
   "mimetype": "text/x-python",
   "name": "python",
   "nbconvert_exporter": "python",
   "pygments_lexer": "ipython3",
   "version": "3.9.1"
  }
 },
 "nbformat": 4,
 "nbformat_minor": 5
}
