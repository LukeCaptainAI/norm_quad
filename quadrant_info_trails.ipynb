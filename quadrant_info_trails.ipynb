{
 "cells": [
  {
   "cell_type": "code",
   "execution_count": 2,
   "id": "48722f7e",
   "metadata": {},
   "outputs": [],
   "source": [
    "import numpy as np\n",
    "import pandas as pd\n",
    "pd.options.display.float_format = '{:.2f}'.format\n",
    "import matplotlib.pyplot as plt"
   ]
  },
  {
   "cell_type": "code",
   "execution_count": 5,
   "id": "9eb66ce6",
   "metadata": {
    "scrolled": true
   },
   "outputs": [
    {
     "ename": "KeyError",
     "evalue": "'delta'",
     "output_type": "error",
     "traceback": [
      "\u001b[0;31m---------------------------------------------------------------------------\u001b[0m",
      "\u001b[0;31mKeyError\u001b[0m                                  Traceback (most recent call last)",
      "\u001b[0;32m~/miniconda3/lib/python3.9/site-packages/pandas/core/indexes/base.py\u001b[0m in \u001b[0;36mget_loc\u001b[0;34m(self, key, method, tolerance)\u001b[0m\n\u001b[1;32m   3079\u001b[0m             \u001b[0;32mtry\u001b[0m\u001b[0;34m:\u001b[0m\u001b[0;34m\u001b[0m\u001b[0;34m\u001b[0m\u001b[0m\n\u001b[0;32m-> 3080\u001b[0;31m                 \u001b[0;32mreturn\u001b[0m \u001b[0mself\u001b[0m\u001b[0;34m.\u001b[0m\u001b[0m_engine\u001b[0m\u001b[0;34m.\u001b[0m\u001b[0mget_loc\u001b[0m\u001b[0;34m(\u001b[0m\u001b[0mcasted_key\u001b[0m\u001b[0;34m)\u001b[0m\u001b[0;34m\u001b[0m\u001b[0;34m\u001b[0m\u001b[0m\n\u001b[0m\u001b[1;32m   3081\u001b[0m             \u001b[0;32mexcept\u001b[0m \u001b[0mKeyError\u001b[0m \u001b[0;32mas\u001b[0m \u001b[0merr\u001b[0m\u001b[0;34m:\u001b[0m\u001b[0;34m\u001b[0m\u001b[0;34m\u001b[0m\u001b[0m\n",
      "\u001b[0;32mpandas/_libs/index.pyx\u001b[0m in \u001b[0;36mpandas._libs.index.IndexEngine.get_loc\u001b[0;34m()\u001b[0m\n",
      "\u001b[0;32mpandas/_libs/index.pyx\u001b[0m in \u001b[0;36mpandas._libs.index.IndexEngine.get_loc\u001b[0;34m()\u001b[0m\n",
      "\u001b[0;32mpandas/_libs/hashtable_class_helper.pxi\u001b[0m in \u001b[0;36mpandas._libs.hashtable.PyObjectHashTable.get_item\u001b[0;34m()\u001b[0m\n",
      "\u001b[0;32mpandas/_libs/hashtable_class_helper.pxi\u001b[0m in \u001b[0;36mpandas._libs.hashtable.PyObjectHashTable.get_item\u001b[0;34m()\u001b[0m\n",
      "\u001b[0;31mKeyError\u001b[0m: 'delta'",
      "\nThe above exception was the direct cause of the following exception:\n",
      "\u001b[0;31mKeyError\u001b[0m                                  Traceback (most recent call last)",
      "\u001b[0;32m<ipython-input-5-f9f8e38c5ab4>\u001b[0m in \u001b[0;36m<module>\u001b[0;34m\u001b[0m\n\u001b[1;32m      3\u001b[0m \u001b[0mdf\u001b[0m \u001b[0;34m=\u001b[0m \u001b[0mpd\u001b[0m\u001b[0;34m.\u001b[0m\u001b[0mread_csv\u001b[0m\u001b[0;34m(\u001b[0m\u001b[0murl\u001b[0m\u001b[0;34m,\u001b[0m \u001b[0mindex_col\u001b[0m\u001b[0;34m=\u001b[0m\u001b[0;36m0\u001b[0m\u001b[0;34m)\u001b[0m\u001b[0;34m\u001b[0m\u001b[0;34m\u001b[0m\u001b[0m\n\u001b[1;32m      4\u001b[0m \u001b[0;31m# df['delta'] = df['true_heading'] - df['cog']\u001b[0m\u001b[0;34m\u001b[0m\u001b[0;34m\u001b[0m\u001b[0;34m\u001b[0m\u001b[0m\n\u001b[0;32m----> 5\u001b[0;31m \u001b[0mda\u001b[0m \u001b[0;34m=\u001b[0m \u001b[0mdf\u001b[0m\u001b[0;34m[\u001b[0m\u001b[0;34m'delta'\u001b[0m\u001b[0;34m]\u001b[0m\u001b[0;34m\u001b[0m\u001b[0;34m\u001b[0m\u001b[0m\n\u001b[0m\u001b[1;32m      6\u001b[0m \u001b[0;32mdel\u001b[0m \u001b[0mdf\u001b[0m\u001b[0;34m[\u001b[0m\u001b[0;34m'delta'\u001b[0m\u001b[0;34m]\u001b[0m\u001b[0;34m\u001b[0m\u001b[0;34m\u001b[0m\u001b[0m\n\u001b[1;32m      7\u001b[0m \u001b[0mdf\u001b[0m\u001b[0;34m[\u001b[0m\u001b[0;34m'delta'\u001b[0m\u001b[0;34m]\u001b[0m \u001b[0;34m=\u001b[0m \u001b[0mda\u001b[0m\u001b[0;34m.\u001b[0m\u001b[0mabs\u001b[0m\u001b[0;34m(\u001b[0m\u001b[0;34m)\u001b[0m\u001b[0;34m\u001b[0m\u001b[0;34m\u001b[0m\u001b[0m\n",
      "\u001b[0;32m~/miniconda3/lib/python3.9/site-packages/pandas/core/frame.py\u001b[0m in \u001b[0;36m__getitem__\u001b[0;34m(self, key)\u001b[0m\n\u001b[1;32m   3022\u001b[0m             \u001b[0;32mif\u001b[0m \u001b[0mself\u001b[0m\u001b[0;34m.\u001b[0m\u001b[0mcolumns\u001b[0m\u001b[0;34m.\u001b[0m\u001b[0mnlevels\u001b[0m \u001b[0;34m>\u001b[0m \u001b[0;36m1\u001b[0m\u001b[0;34m:\u001b[0m\u001b[0;34m\u001b[0m\u001b[0;34m\u001b[0m\u001b[0m\n\u001b[1;32m   3023\u001b[0m                 \u001b[0;32mreturn\u001b[0m \u001b[0mself\u001b[0m\u001b[0;34m.\u001b[0m\u001b[0m_getitem_multilevel\u001b[0m\u001b[0;34m(\u001b[0m\u001b[0mkey\u001b[0m\u001b[0;34m)\u001b[0m\u001b[0;34m\u001b[0m\u001b[0;34m\u001b[0m\u001b[0m\n\u001b[0;32m-> 3024\u001b[0;31m             \u001b[0mindexer\u001b[0m \u001b[0;34m=\u001b[0m \u001b[0mself\u001b[0m\u001b[0;34m.\u001b[0m\u001b[0mcolumns\u001b[0m\u001b[0;34m.\u001b[0m\u001b[0mget_loc\u001b[0m\u001b[0;34m(\u001b[0m\u001b[0mkey\u001b[0m\u001b[0;34m)\u001b[0m\u001b[0;34m\u001b[0m\u001b[0;34m\u001b[0m\u001b[0m\n\u001b[0m\u001b[1;32m   3025\u001b[0m             \u001b[0;32mif\u001b[0m \u001b[0mis_integer\u001b[0m\u001b[0;34m(\u001b[0m\u001b[0mindexer\u001b[0m\u001b[0;34m)\u001b[0m\u001b[0;34m:\u001b[0m\u001b[0;34m\u001b[0m\u001b[0;34m\u001b[0m\u001b[0m\n\u001b[1;32m   3026\u001b[0m                 \u001b[0mindexer\u001b[0m \u001b[0;34m=\u001b[0m \u001b[0;34m[\u001b[0m\u001b[0mindexer\u001b[0m\u001b[0;34m]\u001b[0m\u001b[0;34m\u001b[0m\u001b[0;34m\u001b[0m\u001b[0m\n",
      "\u001b[0;32m~/miniconda3/lib/python3.9/site-packages/pandas/core/indexes/base.py\u001b[0m in \u001b[0;36mget_loc\u001b[0;34m(self, key, method, tolerance)\u001b[0m\n\u001b[1;32m   3080\u001b[0m                 \u001b[0;32mreturn\u001b[0m \u001b[0mself\u001b[0m\u001b[0;34m.\u001b[0m\u001b[0m_engine\u001b[0m\u001b[0;34m.\u001b[0m\u001b[0mget_loc\u001b[0m\u001b[0;34m(\u001b[0m\u001b[0mcasted_key\u001b[0m\u001b[0;34m)\u001b[0m\u001b[0;34m\u001b[0m\u001b[0;34m\u001b[0m\u001b[0m\n\u001b[1;32m   3081\u001b[0m             \u001b[0;32mexcept\u001b[0m \u001b[0mKeyError\u001b[0m \u001b[0;32mas\u001b[0m \u001b[0merr\u001b[0m\u001b[0;34m:\u001b[0m\u001b[0;34m\u001b[0m\u001b[0;34m\u001b[0m\u001b[0m\n\u001b[0;32m-> 3082\u001b[0;31m                 \u001b[0;32mraise\u001b[0m \u001b[0mKeyError\u001b[0m\u001b[0;34m(\u001b[0m\u001b[0mkey\u001b[0m\u001b[0;34m)\u001b[0m \u001b[0;32mfrom\u001b[0m \u001b[0merr\u001b[0m\u001b[0;34m\u001b[0m\u001b[0;34m\u001b[0m\u001b[0m\n\u001b[0m\u001b[1;32m   3083\u001b[0m \u001b[0;34m\u001b[0m\u001b[0m\n\u001b[1;32m   3084\u001b[0m         \u001b[0;32mif\u001b[0m \u001b[0mtolerance\u001b[0m \u001b[0;32mis\u001b[0m \u001b[0;32mnot\u001b[0m \u001b[0;32mNone\u001b[0m\u001b[0;34m:\u001b[0m\u001b[0;34m\u001b[0m\u001b[0;34m\u001b[0m\u001b[0m\n",
      "\u001b[0;31mKeyError\u001b[0m: 'delta'"
     ]
    }
   ],
   "source": [
    "url = 'https://github.com/LukeCaptainAI/norm_quad/blob/main/aisdecoded.csv?raw=true' # forked from github\n",
    "local = '/home/luke/norm_quad/aisdecoded2.csv'\n",
    "df = pd.read_csv(url, index_col=0)\n",
    "\n",
    "# df['delta'] = df['true_heading'] - df['cog']\n",
    "da = df['delta']\n",
    "del df['delta']\n",
    "df['delta'] = da.abs() \n",
    "df"
   ]
  },
  {
   "cell_type": "code",
   "execution_count": 3,
   "id": "fad2988e",
   "metadata": {},
   "outputs": [],
   "source": [
    "trig = np.sin(np.radians((df['delta']))*(-1)) # *-1: delta = hdn-cog, hdn > cog >>> starboard, hdn < cog >>> Portside \n",
    "d_offset= (df.sog*trig) # d_offset is the magnitude of the offtrack vector perpendicular to the heading.\n",
    "df['d_offset'] = d_offset.tolist()\n",
    "\n",
    "\n",
    "heading_adrift = np.select([(df.delta < 0),\n",
    "                        (df.delta == 0),\n",
    "                        (df.delta > 0)],\n",
    "                        ['starboard','no drift', 'portside'])\n",
    "\n",
    "df['drift_to'] = heading_adrift.tolist()"
   ]
  },
  {
   "cell_type": "code",
   "execution_count": 4,
   "id": "75fef052",
   "metadata": {},
   "outputs": [
    {
     "data": {
      "text/plain": [
       "count   120.00\n",
       "mean    137.45\n",
       "std      98.94\n",
       "min       1.00\n",
       "25%      53.25\n",
       "50%     111.45\n",
       "75%     231.68\n",
       "max     336.00\n",
       "Name: cog, dtype: float64"
      ]
     },
     "execution_count": 4,
     "metadata": {},
     "output_type": "execute_result"
    }
   ],
   "source": [
    "df['cog'].describe()"
   ]
  },
  {
   "cell_type": "code",
   "execution_count": 5,
   "id": "0b654aef",
   "metadata": {},
   "outputs": [
    {
     "name": "stdout",
     "output_type": "stream",
     "text": [
      "Rechts draaiend stelsel...\n",
      " \n",
      "Q4     0      Q1\n",
      "               \n",
      "       |        \n",
      "270  --|--    90\n",
      "       |        \n",
      "               \n",
      "Q3    180     Q2\n"
     ]
    },
    {
     "data": {
      "text/html": [
       "<img src=\"https://iitutor.com/wp-content/uploads/2019/03/N1303-Signs-in-Quadrants.png\" width=\"400\" height=\"400\"/>"
      ],
      "text/plain": [
       "<IPython.core.display.Image object>"
      ]
     },
     "execution_count": 5,
     "metadata": {},
     "output_type": "execute_result"
    }
   ],
   "source": [
    "pika = 'https://iitutor.com/wp-content/uploads/2019/03/N1303-Signs-in-Quadrants.png'\n",
    "from IPython.display import Image # trigonomic functions of quadrants\n",
    "Image(url= pika, width=400, height=400)\n",
    "\n",
    " \n",
    "print('Rechts draaiend stelsel...')\n",
    "print(' ')\n",
    "print('Q4     0      Q1')\n",
    "print('               ')\n",
    "print('       |        ')\n",
    "print('270  --|--    90')\n",
    "print('       |        ')\n",
    "print('               ')\n",
    "print('Q3    180     Q2')\n",
    "\n",
    "pika = 'https://iitutor.com/wp-content/uploads/2019/03/N1303-Signs-in-Quadrants.png'\n",
    "from IPython.display import Image # trigonomic functions of quadrants\n",
    "Image(url= pika, width=400, height=400)"
   ]
  },
  {
   "cell_type": "code",
   "execution_count": 6,
   "id": "a0529409",
   "metadata": {},
   "outputs": [
    {
     "data": {
      "text/plain": [
       "array([304.        , 115.90000153, 106.59999847,  43.        ,\n",
       "        96.        , 260.6000061 , 111.        , 294.        ,\n",
       "       103.90000153,  15.39999962, 106.59999847, 268.29998779,\n",
       "        61.5       , 133.        ,  94.        , 304.6000061 ,\n",
       "       116.80000305, 227.1000061 ,  42.        ,  42.        ,\n",
       "       111.30000305,  90.        , 114.19999695,  35.        ,\n",
       "       106.59999847, 298.29998779, 114.5       ,   9.30000019,\n",
       "        85.        ,  41.        , 293.        , 111.59999847,\n",
       "       113.40000153,  79.        , 120.80000305,  50.5       ,\n",
       "       267.70001221, 112.09999847,  73.        , 156.3999939 ,\n",
       "        15.19999981, 112.69999695, 291.        , 106.59999847,\n",
       "        67.        , 305.20001221,  43.        , 111.69999695,\n",
       "       290.        ,  41.        , 114.40000153, 112.        ,\n",
       "       298.6000061 ,  27.        ,  60.        , 336.        ,\n",
       "        54.        , 291.        ,  24.        ,  50.20000076,\n",
       "        51.        , 111.09999847, 123.69999695, 106.59999847,\n",
       "        48.        , 117.40000153, 110.40000153, 306.5       ,\n",
       "        14.80000019, 104.30000305,  43.        ,  62.        ,\n",
       "       290.        , 196.30000305, 245.3999939 ,  42.        ,\n",
       "       109.69999695, 115.19999695, 291.        , 111.90000153,\n",
       "        37.        , 118.09999847, 298.1000061 ,  14.5       ,\n",
       "        33.        , 208.        , 321.79998779,   1.        ,\n",
       "       302.8999939 , 108.59999847,  31.        , 126.        ,\n",
       "       181.80000305, 107.19999695,  72.        , 271.3999939 ,\n",
       "       292.        ,  28.        , 298.        , 107.90000153,\n",
       "       306.8999939 ,  15.10000038, 271.3999939 , 156.8999939 ,\n",
       "        28.        , 291.        ,  41.        , 206.3999939 ,\n",
       "       118.90000153,  76.        , 107.        ,  27.        ,\n",
       "       112.19999695, 298.70001221, 115.69999695, 294.        ,\n",
       "        28.        ,  77.        , 257.20001221, 126.90000153])"
      ]
     },
     "execution_count": 6,
     "metadata": {},
     "output_type": "execute_result"
    }
   ],
   "source": [
    "cog = np.array(df['cog'])\n",
    "hdn = np.array(df['true_heading'])\n",
    "\n",
    "\n",
    "cog # geisoleerde numpy array voor indivudeele operaties"
   ]
  },
  {
   "cell_type": "code",
   "execution_count": 7,
   "id": "30744a4c",
   "metadata": {
    "scrolled": true
   },
   "outputs": [],
   "source": [
    "# isolation of: 1.quadrant deterimation 2. reduced angle based on quadrant 3. magnitude vector * cos_x and sin_x\n",
    "\n",
    "# cog 1\n",
    "quad_cog = np.select([(df.cog>0)&(df.cog<90),\n",
    "                     (df.cog>90)&(df.cog<180),\n",
    "                      (df.cog>180)&(df.cog<270),\n",
    "                     (df.cog>270)&(df.cog<360)],\n",
    "                    [1,2,3,4])\n",
    "\n",
    "df['qd_cog'] = quad_cog.tolist()\n",
    "\n",
    "#df['red_hdn'] = red_hdn.tolist()\n",
    "#df['qd_hdn'] = quad_hdn.tolist()\n",
    "\n",
    "# 2\n",
    "red_cog = np.select([(df.cog>0)&(df.cog<90),\n",
    "                     (df.cog>90)&(df.cog<180),\n",
    "                      (df.cog>180)&(df.cog<270),\n",
    "                     (df.cog>270)&(df.cog<360)],\n",
    "                    [df.cog,df.cog-90,df.cog-180,df.cog-270])\n",
    "\n",
    "df['red_cog'] = red_cog.tolist()\n",
    "\n",
    "# 3 cog x, y formula\n",
    "a = (df.sog*np.cos(np.radians(df.red_cog)))\n",
    "b = (df.sog*np.cos(np.radians(df.red_cog))*(-1))\n",
    "c = (df.sog*np.sin(np.radians(df.red_cog)))\n",
    "d = (df.sog*np.sin(np.radians(df.red_cog))*(-1))\n",
    "\n",
    "cog_x =   np.select([(df.cog>0)&(df.cog<90),\n",
    "                     (df.cog>90)&(df.cog<180),\n",
    "                      (df.cog>180)&(df.cog<270),\n",
    "                     (df.cog>270)&(df.cog<360)],\n",
    "                    [a, a, b, b])\n",
    "\n",
    "cog_y = np.select([(df.cog>0)&(df.cog<90),\n",
    "                     (df.cog>90)&(df.cog<180),\n",
    "                      (df.cog>180)&(df.cog<270),\n",
    "                     (df.cog>270)&(df.cog<360)],\n",
    "                    [c, d, d, c])\n",
    "\n",
    "df['cog_x'] = cog_x.tolist()\n",
    "df['cog_y'] = cog_y.tolist()\n",
    "\n",
    "# hdn 1\n",
    "quad_hdn = np.select([(df.true_heading>0)&(df.true_heading<90),\n",
    "                     (df.true_heading>90)&(df.true_heading<180),\n",
    "                      (df.true_heading>180)&(df.true_heading<270),\n",
    "                     (df.true_heading>270)&(df.true_heading<360)],\n",
    "                    [1,2,3,4])\n",
    "\n",
    "# hdn 2\n",
    "red_hdn = np.select([(df.true_heading>0)&(df.true_heading<90),\n",
    "                     (df.true_heading>90)&(df.true_heading<180),\n",
    "                      (df.true_heading>180)&(df.true_heading<270),\n",
    "                     (df.true_heading>270)&(df.true_heading<360)],\n",
    "                    [df.true_heading, df.true_heading-90, df.true_heading-180, df.true_heading-270])"
   ]
  },
  {
   "cell_type": "code",
   "execution_count": 8,
   "id": "ef1bd6a3",
   "metadata": {},
   "outputs": [],
   "source": [
    "\n",
    "\n",
    "#hdn x, y formula\n",
    "#e = (df.sog*np.cos(np.radians(df.red_hdn)))\n",
    "#f = (df.sog*np.cos(np.radians(df.red_hdn))*(-1))\n",
    "#g = (df.sog*np.sin(np.radians(df.red_hdn)))\n",
    "#h = (df.sog*np.sin(np.radians(df.red_hdn))*(-1))\n",
    "\n",
    "\n",
    "\n",
    "cog_x =   np.select([(df.cog>0)&(df.cog<90),\n",
    "                     (df.cog>90)&(df.cog<180),\n",
    "                      (df.cog>180)&(df.cog<270),\n",
    "                     (df.cog>270)&(df.cog<360)],\n",
    "                    [a, a, b, b])\n",
    "                  \n",
    "cog_y = np.select([(df.cog>0)&(df.cog<90),\n",
    "                     (df.cog>90)&(df.cog<180),\n",
    "                      (df.cog>180)&(df.cog<270),\n",
    "                     (df.cog>270)&(df.cog<360)],\n",
    "                    [c, d, d, c])\n",
    "\n",
    "# hdn_x = np.select([(df.true_heading>0)&(df.true_heading<90),\n",
    "#                      (df.true_heading>90)&(df.true_heading<180),\n",
    "#                       (df.true_heading>180)&(df.true_heading<270),\n",
    "#                      (df.true_heading>270)&(df.true_heading<360)],\n",
    "#                     [e, e, f, f])\n",
    "# \n",
    "# hdn_y = np.select([(df.true_heading>0)&(df.true_heading<90),\n",
    "#                      (df.true_heading>90)&(df.true_heading<180),\n",
    "#                       (df.true_heading>180)&(df.true_heading<270),\n",
    "#                      (df.true_heading>270)&(df.true_heading<360)],\n",
    "#                     [g, h, h, g])"
   ]
  },
  {
   "cell_type": "code",
   "execution_count": 17,
   "id": "619d6317",
   "metadata": {},
   "outputs": [
    {
     "ename": "KeyError",
     "evalue": "\"['d_offset', 'utc', 'drift_to'] not in index\"",
     "output_type": "error",
     "traceback": [
      "\u001b[0;31m---------------------------------------------------------------------------\u001b[0m",
      "\u001b[0;31mKeyError\u001b[0m                                  Traceback (most recent call last)",
      "\u001b[0;32m<ipython-input-17-3785dccce9b6>\u001b[0m in \u001b[0;36m<module>\u001b[0;34m\u001b[0m\n\u001b[1;32m      6\u001b[0m \u001b[0mdf\u001b[0m\u001b[0;34m[\u001b[0m\u001b[0;34m'qd_hdn'\u001b[0m\u001b[0;34m]\u001b[0m \u001b[0;34m=\u001b[0m \u001b[0mquad_hdn\u001b[0m\u001b[0;34m.\u001b[0m\u001b[0mtolist\u001b[0m\u001b[0;34m(\u001b[0m\u001b[0;34m)\u001b[0m\u001b[0;34m\u001b[0m\u001b[0;34m\u001b[0m\u001b[0m\n\u001b[1;32m      7\u001b[0m \u001b[0;34m\u001b[0m\u001b[0m\n\u001b[0;32m----> 8\u001b[0;31m \u001b[0mdf\u001b[0m\u001b[0;34m[\u001b[0m\u001b[0;34m[\u001b[0m\u001b[0;34m'utc'\u001b[0m\u001b[0;34m,\u001b[0m\u001b[0;34m'mmsi'\u001b[0m\u001b[0;34m,\u001b[0m\u001b[0;34m'sog'\u001b[0m\u001b[0;34m,\u001b[0m\u001b[0;34m'cog'\u001b[0m\u001b[0;34m,\u001b[0m\u001b[0;34m'qd_cog'\u001b[0m\u001b[0;34m,\u001b[0m\u001b[0;34m'red_cog'\u001b[0m\u001b[0;34m,\u001b[0m\u001b[0;34m'true_heading'\u001b[0m\u001b[0;34m,\u001b[0m\u001b[0;34m'qd_hdn'\u001b[0m\u001b[0;34m,\u001b[0m\u001b[0;34m'red_hdn'\u001b[0m\u001b[0;34m,\u001b[0m\u001b[0;34m'delta'\u001b[0m\u001b[0;34m,\u001b[0m\u001b[0;34m'd_offset'\u001b[0m\u001b[0;34m,\u001b[0m\u001b[0;34m'drift_to'\u001b[0m\u001b[0;34m]\u001b[0m\u001b[0;34m]\u001b[0m\u001b[0;34m\u001b[0m\u001b[0;34m\u001b[0m\u001b[0m\n\u001b[0m\u001b[1;32m      9\u001b[0m \u001b[0mprint\u001b[0m\u001b[0;34m(\u001b[0m\u001b[0mdf\u001b[0m\u001b[0;34m)\u001b[0m\u001b[0;34m\u001b[0m\u001b[0;34m\u001b[0m\u001b[0m\n",
      "\u001b[0;32m~/miniconda3/lib/python3.9/site-packages/pandas/core/frame.py\u001b[0m in \u001b[0;36m__getitem__\u001b[0;34m(self, key)\u001b[0m\n\u001b[1;32m   3028\u001b[0m             \u001b[0;32mif\u001b[0m \u001b[0mis_iterator\u001b[0m\u001b[0;34m(\u001b[0m\u001b[0mkey\u001b[0m\u001b[0;34m)\u001b[0m\u001b[0;34m:\u001b[0m\u001b[0;34m\u001b[0m\u001b[0;34m\u001b[0m\u001b[0m\n\u001b[1;32m   3029\u001b[0m                 \u001b[0mkey\u001b[0m \u001b[0;34m=\u001b[0m \u001b[0mlist\u001b[0m\u001b[0;34m(\u001b[0m\u001b[0mkey\u001b[0m\u001b[0;34m)\u001b[0m\u001b[0;34m\u001b[0m\u001b[0;34m\u001b[0m\u001b[0m\n\u001b[0;32m-> 3030\u001b[0;31m             \u001b[0mindexer\u001b[0m \u001b[0;34m=\u001b[0m \u001b[0mself\u001b[0m\u001b[0;34m.\u001b[0m\u001b[0mloc\u001b[0m\u001b[0;34m.\u001b[0m\u001b[0m_get_listlike_indexer\u001b[0m\u001b[0;34m(\u001b[0m\u001b[0mkey\u001b[0m\u001b[0;34m,\u001b[0m \u001b[0maxis\u001b[0m\u001b[0;34m=\u001b[0m\u001b[0;36m1\u001b[0m\u001b[0;34m,\u001b[0m \u001b[0mraise_missing\u001b[0m\u001b[0;34m=\u001b[0m\u001b[0;32mTrue\u001b[0m\u001b[0;34m)\u001b[0m\u001b[0;34m[\u001b[0m\u001b[0;36m1\u001b[0m\u001b[0;34m]\u001b[0m\u001b[0;34m\u001b[0m\u001b[0;34m\u001b[0m\u001b[0m\n\u001b[0m\u001b[1;32m   3031\u001b[0m \u001b[0;34m\u001b[0m\u001b[0m\n\u001b[1;32m   3032\u001b[0m         \u001b[0;31m# take() does not accept boolean indexers\u001b[0m\u001b[0;34m\u001b[0m\u001b[0;34m\u001b[0m\u001b[0;34m\u001b[0m\u001b[0m\n",
      "\u001b[0;32m~/miniconda3/lib/python3.9/site-packages/pandas/core/indexing.py\u001b[0m in \u001b[0;36m_get_listlike_indexer\u001b[0;34m(self, key, axis, raise_missing)\u001b[0m\n\u001b[1;32m   1264\u001b[0m             \u001b[0mkeyarr\u001b[0m\u001b[0;34m,\u001b[0m \u001b[0mindexer\u001b[0m\u001b[0;34m,\u001b[0m \u001b[0mnew_indexer\u001b[0m \u001b[0;34m=\u001b[0m \u001b[0max\u001b[0m\u001b[0;34m.\u001b[0m\u001b[0m_reindex_non_unique\u001b[0m\u001b[0;34m(\u001b[0m\u001b[0mkeyarr\u001b[0m\u001b[0;34m)\u001b[0m\u001b[0;34m\u001b[0m\u001b[0;34m\u001b[0m\u001b[0m\n\u001b[1;32m   1265\u001b[0m \u001b[0;34m\u001b[0m\u001b[0m\n\u001b[0;32m-> 1266\u001b[0;31m         \u001b[0mself\u001b[0m\u001b[0;34m.\u001b[0m\u001b[0m_validate_read_indexer\u001b[0m\u001b[0;34m(\u001b[0m\u001b[0mkeyarr\u001b[0m\u001b[0;34m,\u001b[0m \u001b[0mindexer\u001b[0m\u001b[0;34m,\u001b[0m \u001b[0maxis\u001b[0m\u001b[0;34m,\u001b[0m \u001b[0mraise_missing\u001b[0m\u001b[0;34m=\u001b[0m\u001b[0mraise_missing\u001b[0m\u001b[0;34m)\u001b[0m\u001b[0;34m\u001b[0m\u001b[0;34m\u001b[0m\u001b[0m\n\u001b[0m\u001b[1;32m   1267\u001b[0m         \u001b[0;32mreturn\u001b[0m \u001b[0mkeyarr\u001b[0m\u001b[0;34m,\u001b[0m \u001b[0mindexer\u001b[0m\u001b[0;34m\u001b[0m\u001b[0;34m\u001b[0m\u001b[0m\n\u001b[1;32m   1268\u001b[0m \u001b[0;34m\u001b[0m\u001b[0m\n",
      "\u001b[0;32m~/miniconda3/lib/python3.9/site-packages/pandas/core/indexing.py\u001b[0m in \u001b[0;36m_validate_read_indexer\u001b[0;34m(self, key, indexer, axis, raise_missing)\u001b[0m\n\u001b[1;32m   1314\u001b[0m             \u001b[0;32mif\u001b[0m \u001b[0mraise_missing\u001b[0m\u001b[0;34m:\u001b[0m\u001b[0;34m\u001b[0m\u001b[0;34m\u001b[0m\u001b[0m\n\u001b[1;32m   1315\u001b[0m                 \u001b[0mnot_found\u001b[0m \u001b[0;34m=\u001b[0m \u001b[0mlist\u001b[0m\u001b[0;34m(\u001b[0m\u001b[0mset\u001b[0m\u001b[0;34m(\u001b[0m\u001b[0mkey\u001b[0m\u001b[0;34m)\u001b[0m \u001b[0;34m-\u001b[0m \u001b[0mset\u001b[0m\u001b[0;34m(\u001b[0m\u001b[0max\u001b[0m\u001b[0;34m)\u001b[0m\u001b[0;34m)\u001b[0m\u001b[0;34m\u001b[0m\u001b[0;34m\u001b[0m\u001b[0m\n\u001b[0;32m-> 1316\u001b[0;31m                 \u001b[0;32mraise\u001b[0m \u001b[0mKeyError\u001b[0m\u001b[0;34m(\u001b[0m\u001b[0;34mf\"{not_found} not in index\"\u001b[0m\u001b[0;34m)\u001b[0m\u001b[0;34m\u001b[0m\u001b[0;34m\u001b[0m\u001b[0m\n\u001b[0m\u001b[1;32m   1317\u001b[0m \u001b[0;34m\u001b[0m\u001b[0m\n\u001b[1;32m   1318\u001b[0m             \u001b[0mnot_found\u001b[0m \u001b[0;34m=\u001b[0m \u001b[0mkey\u001b[0m\u001b[0;34m[\u001b[0m\u001b[0mmissing_mask\u001b[0m\u001b[0;34m]\u001b[0m\u001b[0;34m\u001b[0m\u001b[0;34m\u001b[0m\u001b[0m\n",
      "\u001b[0;31mKeyError\u001b[0m: \"['d_offset', 'utc', 'drift_to'] not in index\""
     ]
    }
   ],
   "source": [
    "df['qd_cog'] = quad_cog.tolist()\n",
    "df['red_cog'] = red_cog.tolist()\n",
    "df['cog_x'] = cog_x.tolist()\n",
    "df['cog_y'] = cog_y.tolist()\n",
    "df['red_hdn'] = red_hdn.tolist()\n",
    "df['qd_hdn'] = quad_hdn.tolist()\n",
    "\n",
    "df[['utc','mmsi','sog','cog','qd_cog','red_cog','true_heading','qd_hdn','red_hdn','delta','d_offset','drift_to']]\n"
   ]
  },
  {
   "cell_type": "code",
   "execution_count": 25,
   "id": "4070b6d3",
   "metadata": {},
   "outputs": [
    {
     "data": {
      "text/plain": [
       "2.1272350429023272"
      ]
     },
     "execution_count": 25,
     "metadata": {},
     "output_type": "execute_result"
    }
   ],
   "source": [
    "# Use cosine rule to solve for drift magnitude method : B\n",
    "s_own = 10.1 # O\n",
    "sog = 11.4 # s\n",
    "cog = 304 \n",
    "hdn = 313 #\n",
    "delta = 9  # d\n",
    "\n",
    "# a^2 = b^2 + c^2 - 2 bc cosA\n",
    "d_square = (sog**2 + s_own**2) - (2 * s_own * sog * np.cos(np.radians(delta)))\n",
    "d = np.sqrt(d_square)\n",
    "d\n",
    "\n",
    "\n",
    "# Use cosine rule to solve for angle B in triangle abc\n",
    "# cos B = (a^2 + b^2 - c^2) / 2 a c \n",
    "\n",
    "S = "
   ]
  },
  {
   "cell_type": "code",
   "execution_count": 10,
   "id": "0fdeac70",
   "metadata": {},
   "outputs": [
    {
     "data": {
      "text/html": [
       "<img src=\"https://github.com/LukeCaptainAI/norm_quad/blob/main/cosinerule.png?raw=true\" width=\"400\" height=\"400\"/>"
      ],
      "text/plain": [
       "<IPython.core.display.Image object>"
      ]
     },
     "execution_count": 10,
     "metadata": {},
     "output_type": "execute_result"
    }
   ],
   "source": [
    "sin = 'https://github.com/LukeCaptainAI/norm_quad/blob/main/cosinerule.png?raw=true'\n",
    "from IPython.display import Image # \n",
    "Image(url= sin, width=400, height=400)"
   ]
  },
  {
   "cell_type": "code",
   "execution_count": 1,
   "id": "86236359",
   "metadata": {},
   "outputs": [],
   "source": [
    "# stap 2:\n",
    "# -------\n",
    "# De numpy array quad_cog toevoegen aan de oorspronkelijke dataframe \n",
    "# 1 op basis van kwadranten info een if statement toevoegen waarbij de cog of wel hoek a gereduceert wordt\n",
    "# 2 de y waarde middels de sinus van de gerduceerde hoek toevoegen op basis van de coditionele waarde van ['quad_cog']\n",
    "# 3 de x waarde middels cosinus van ... ...\n",
    "# \n",
    "# ['cog']: a  ['quad_cog']    1['reduced_cog']:b  2['cog_y']                       3['cog_x']\n",
    "# 53.250000   1               53.250000 a=a       y= np.sin(np.radians(b))         x= np.cos(np.radians(b))\n",
    "#  \n",
    "# 111.450001  2               21.450001 a=a-90    y= (np.sin(np.radians(b))*(-1))  x= np.cos(np.radians(b))\n",
    "#  \n",
    "# 231.675003  3               51.675003 a=a-180   y= (np.sin(np.radians(b))*(-1))  x= (np.cos(np.radians(b))*(-1))\n",
    "#  \n",
    "# 336.000000  4               66.000000 a=a-270   y= np.sin(np.radians(b))         x= (np.cos(np.radians(b))*(-1))"
   ]
  },
  {
   "cell_type": "code",
   "execution_count": 17,
   "id": "6d2d8415",
   "metadata": {},
   "outputs": [
    {
     "data": {
      "text/plain": [
       "array([124.        ,  25.90000153,  16.59999847,  43.        ,\n",
       "         6.        ,  80.6000061 ,  21.        , 114.        ,\n",
       "        13.90000153,  15.39999962,  16.59999847,  88.29998779,\n",
       "        61.5       ,  43.        ,   4.        , 124.6000061 ,\n",
       "        26.80000305,  47.1000061 ,  42.        ,  42.        ,\n",
       "        21.30000305,   0.        ,  24.19999695,  35.        ,\n",
       "        16.59999847, 118.29998779,  24.5       ,   9.30000019,\n",
       "        85.        ,  41.        , 113.        ,  21.59999847,\n",
       "        23.40000153,  79.        ,  30.80000305,  50.5       ,\n",
       "        87.70001221,  22.09999847,  73.        ,  66.3999939 ,\n",
       "        15.19999981,  22.69999695, 111.        ,  16.59999847,\n",
       "        67.        , 125.20001221,  43.        ,  21.69999695,\n",
       "       110.        ,  41.        ,  24.40000153,  22.        ,\n",
       "       118.6000061 ,  27.        ,  60.        , 156.        ,\n",
       "        54.        , 111.        ,  24.        ,  50.20000076,\n",
       "        51.        ,  21.09999847,  33.69999695,  16.59999847,\n",
       "        48.        ,  27.40000153,  20.40000153, 126.5       ,\n",
       "        14.80000019,  14.30000305,  43.        ,  62.        ,\n",
       "       110.        ,  16.30000305,  65.3999939 ,  42.        ,\n",
       "        19.69999695,  25.19999695, 111.        ,  21.90000153,\n",
       "        37.        ,  28.09999847, 118.1000061 ,  14.5       ,\n",
       "        33.        ,  28.        , 141.79998779,   1.        ,\n",
       "       122.8999939 ,  18.59999847,  31.        ,  36.        ,\n",
       "         1.80000305,  17.19999695,  72.        ,  91.3999939 ,\n",
       "       112.        ,  28.        , 118.        ,  17.90000153,\n",
       "       126.8999939 ,  15.10000038,  91.3999939 ,  66.8999939 ,\n",
       "        28.        , 111.        ,  41.        ,  26.3999939 ,\n",
       "        28.90000153,  76.        ,  17.        ,  27.        ,\n",
       "        22.19999695, 118.70001221,  25.69999695, 114.        ,\n",
       "        28.        ,  77.        ,  77.20001221,  36.90000153])"
      ]
     },
     "execution_count": 17,
     "metadata": {},
     "output_type": "execute_result"
    }
   ],
   "source": []
  },
  {
   "cell_type": "code",
   "execution_count": null,
   "id": "51a2a35b",
   "metadata": {},
   "outputs": [],
   "source": []
  },
  {
   "cell_type": "code",
   "execution_count": null,
   "id": "6d237d21",
   "metadata": {},
   "outputs": [],
   "source": []
  },
  {
   "cell_type": "code",
   "execution_count": null,
   "id": "434c6c16",
   "metadata": {},
   "outputs": [],
   "source": []
  }
 ],
 "metadata": {
  "kernelspec": {
   "display_name": "Python 3",
   "language": "python",
   "name": "python3"
  },
  "language_info": {
   "codemirror_mode": {
    "name": "ipython",
    "version": 3
   },
   "file_extension": ".py",
   "mimetype": "text/x-python",
   "name": "python",
   "nbconvert_exporter": "python",
   "pygments_lexer": "ipython3",
   "version": "3.9.1"
  }
 },
 "nbformat": 4,
 "nbformat_minor": 5
}
